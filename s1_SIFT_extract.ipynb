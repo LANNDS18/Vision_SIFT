{
 "cells": [
  {
   "cell_type": "code",
   "execution_count": 1,
   "metadata": {
    "pycharm": {
     "name": "#%%\n"
    }
   },
   "outputs": [
    {
     "data": {
      "text/plain": "<Figure size 432x288 with 0 Axes>"
     },
     "metadata": {},
     "output_type": "display_data"
    }
   ],
   "source": [
    "import pickle\n",
    "import time\n",
    "import cv2\n",
    "import os\n",
    "import matplotlib.pyplot as plt\n",
    "\n",
    "import SIFT\n",
    "from tqdm import tqdm\n",
    "\n",
    "plt.set_cmap('gray')"
   ]
  },
  {
   "cell_type": "code",
   "execution_count": 3,
   "outputs": [],
   "source": [
    "# load images\n",
    "def load_images_from_folder(folder,color):\n",
    "    images = {}\n",
    "    for cdata in os.listdir(folder):\n",
    "        # prevent to read something like .DS_store\n",
    "        if cdata.startswith('.'):\n",
    "            continue\n",
    "        current_class = []\n",
    "        path = folder + \"/\" + cdata\n",
    "        for file in os.listdir(path):\n",
    "            # prevent to read something like .DS_store\n",
    "            if file.startswith('.'):\n",
    "                continue\n",
    "            image = cv2.imread(path + \"/\" + file)\n",
    "            if color == 'gray':\n",
    "                image = cv2.cvtColor(image, cv2.COLOR_BGR2GRAY)\n",
    "            else:\n",
    "                image = cv2.cvtColor(image, cv2.COLOR_BGR2RGB)\n",
    "            if image is not None:\n",
    "                current_class.append(image)\n",
    "        images[cdata] = current_class\n",
    "    return images\n",
    "\n",
    "\n",
    "# Read from directory\n",
    "train_set  = load_images_from_folder('COMP338_Assignment1_Dataset/Training',color='gray')\n",
    "test_set = load_images_from_folder('COMP338_Assignment1_Dataset/Test',color='gray')\n",
    "test_set_rgb = load_images_from_folder('COMP338_Assignment1_Dataset/Test',color='rgb')"
   ],
   "metadata": {
    "collapsed": false,
    "pycharm": {
     "name": "#%%\n"
    }
   }
  },
  {
   "cell_type": "markdown",
   "metadata": {},
   "source": [
    "# Training process\n",
    "## Step 1: Extract SIFT Feature"
   ]
  },
  {
   "cell_type": "code",
   "execution_count": 4,
   "metadata": {
    "pycharm": {
     "name": "#%%\n"
    }
   },
   "outputs": [],
   "source": [
    "# SIFT Features\n",
    "def sift_features(images):\n",
    "    sift_vectors = {}\n",
    "    keypoint_vectors = {}\n",
    "    all_descriptor = []\n",
    "    for image_class, folder in images.items():\n",
    "        features = []\n",
    "        keypoint_list = []\n",
    "        pbar = tqdm(folder, position=0)\n",
    "        for image in pbar:\n",
    "            time.sleep(.01)\n",
    "            pbar.set_description(f\"Processing {image_class}\", refresh=True)\n",
    "            # Using sift in cv2 can accelerate the feature extraction powerfully\n",
    "            # cv2_sift = cv2.SIFT_create(200)\n",
    "            # key_p, des = cv2_sift.detectAndCompute(image, None)\n",
    "            key_p, des = SIFT.computeKeypointsAndDescriptors(image)\n",
    "            all_descriptor.extend(des)\n",
    "            features.append(des)\n",
    "            keypoint_list.append(key_p)\n",
    "        sift_vectors[image_class] = features\n",
    "        keypoint_vectors[image_class] = keypoint_list\n",
    "    return [all_descriptor, sift_vectors, keypoint_vectors]\n",
    "\n",
    "\n",
    "# Only extract first n samples\n",
    "def slice_dataset(images, n):\n",
    "    dic = {}\n",
    "    for image_class, folder in images.items():\n",
    "        folder = folder[0:n]\n",
    "        dic[image_class] = folder\n",
    "    return dic"
   ]
  },
  {
   "cell_type": "code",
   "execution_count": 5,
   "metadata": {
    "pycharm": {
     "name": "#%%\n"
    }
   },
   "outputs": [
    {
     "name": "stderr",
     "output_type": "stream",
     "text": [
      "Processing airplanes: 100%|██████████| 70/70 [00:01<00:00, 49.16it/s]\n",
      "Processing dog: 100%|██████████| 70/70 [00:01<00:00, 49.45it/s]\n",
      "Processing cars: 100%|██████████| 70/70 [00:01<00:00, 49.50it/s]\n",
      "Processing faces: 100%|██████████| 70/70 [00:01<00:00, 49.26it/s]\n",
      "Processing keyboard: 100%|██████████| 70/70 [00:01<00:00, 49.90it/s]\n",
      "Processing airplanes: 100%|██████████| 10/10 [00:00<00:00, 48.69it/s]\n",
      "Processing dog: 100%|██████████| 10/10 [00:00<00:00, 48.05it/s]\n",
      "Processing cars: 100%|██████████| 10/10 [00:00<00:00, 48.64it/s]\n",
      "Processing faces: 100%|██████████| 10/10 [00:00<00:00, 49.87it/s]\n",
      "Processing keyboard: 100%|██████████| 10/10 [00:00<00:00, 49.87it/s]\n"
     ]
    }
   ],
   "source": [
    "# Extract SIFT Features from train-set\n",
    "# Only use first 2 samples in developing stage\n",
    "sift_train = sift_features(train_set)\n",
    "# Extract SIFT Features from test-set\n",
    "sift_test = sift_features(test_set)\n",
    "\n",
    "train_des_list = sift_train[0]\n",
    "train_des_by_class = sift_train[1]\n",
    "train_kp_by_class = sift_train[2]"
   ]
  },
  {
   "cell_type": "markdown",
   "metadata": {},
   "source": [
    "### Save the SIFT feature for both training and test set"
   ]
  },
  {
   "cell_type": "code",
   "execution_count": 6,
   "metadata": {
    "pycharm": {
     "name": "#%%\n"
    }
   },
   "outputs": [],
   "source": [
    "# transfer cv2.keypoint to dic object\n",
    "def transfer_kp_list(train_kps):\n",
    "    kp_list = {}\n",
    "    for image_class, images in train_kps.items():\n",
    "        all_image_with_kp = []\n",
    "        for image in images:\n",
    "            single_img = []\n",
    "            for kp in image:\n",
    "                if not isinstance(kp, cv2.KeyPoint):\n",
    "                    return train_kps\n",
    "                kp_tran = {'pt': kp.pt, 'size': kp.size}\n",
    "                single_img.append(kp_tran)\n",
    "            all_image_with_kp.append(single_img)\n",
    "        kp_list[image_class] = all_image_with_kp\n",
    "    return kp_list\n",
    "\n",
    "train_kp_by_class = transfer_kp_list(train_kp_by_class)\n",
    "test_des_by_class = sift_test[1]"
   ]
  },
  {
   "cell_type": "code",
   "execution_count": 14,
   "metadata": {
    "pycharm": {
     "name": "#%%\n"
    }
   },
   "outputs": [],
   "source": [
    "# save numpy dict of descriptors by class\n",
    "with open('Models/SIFT_feature/train_descriptors_by_class.pkl', 'wb') as f:\n",
    "    pickle.dump(train_des_by_class, f)\n",
    "# save dict of key_points by class\n",
    "with open('Models/SIFT_feature/train_keypoint_by_class.pkl', 'wb') as f:\n",
    "    pickle.dump(train_kp_by_class, f)\n",
    "# save all descriptors of training set\n",
    "with open('Models/SIFT_feature/all_training_descriptors.pkl', 'wb') as f:\n",
    "    pickle.dump(train_des_list, f)\n",
    "# save numpy dict of descriptors by class\n",
    "with open('Models/SIFT_feature/test_descriptors_by_class.pkl', 'wb') as f:\n",
    "    pickle.dump(test_des_by_class, f)"
   ]
  }
 ],
 "metadata": {
  "kernelspec": {
   "display_name": "Python 3 (ipykernel)",
   "language": "python",
   "name": "python3"
  },
  "language_info": {
   "codemirror_mode": {
    "name": "ipython",
    "version": 3
   },
   "file_extension": ".py",
   "mimetype": "text/x-python",
   "name": "python",
   "nbconvert_exporter": "python",
   "pygments_lexer": "ipython3",
   "version": "3.8.12"
  }
 },
 "nbformat": 4,
 "nbformat_minor": 1
}